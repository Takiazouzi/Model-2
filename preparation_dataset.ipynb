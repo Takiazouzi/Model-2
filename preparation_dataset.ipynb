{
 "cells": [
  {
   "cell_type": "markdown",
   "metadata": {},
   "source": [
    "# 1. Importation du  Dependencies"
   ]
  },
  {
   "cell_type": "code",
   "execution_count": 2,
   "metadata": {},
   "outputs": [
    {
     "name": "stdout",
     "output_type": "stream",
     "text": [
      "Requirement already satisfied: opencv-python in c:\\users\\takia\\onedrive\\desktop\\medianet\\model 4\\model-2\\env\\lib\\site-packages (4.9.0.80)\n",
      "Requirement already satisfied: numpy>=1.17.0 in c:\\users\\takia\\onedrive\\desktop\\medianet\\model 4\\model-2\\env\\lib\\site-packages (from opencv-python) (1.26.4)\n"
     ]
    }
   ],
   "source": [
    "!pip install opencv-python"
   ]
  },
  {
   "cell_type": "code",
   "execution_count": 3,
   "metadata": {},
   "outputs": [],
   "source": [
    "import cv2 \n",
    "import uuid\n",
    "import os\n",
    "import time"
   ]
  },
  {
   "cell_type": "markdown",
   "metadata": {},
   "source": [
    "# 2. Definition des classes (reference des produit) et  collection des images"
   ]
  },
  {
   "cell_type": "code",
   "execution_count": 4,
   "metadata": {},
   "outputs": [],
   "source": [
    "produits = [ 'prod1', 'prod2', 'prod3', 'prod4', 'prod5']"
   ]
  },
  {
   "cell_type": "markdown",
   "metadata": {},
   "source": [
    "# 3. Config dossier "
   ]
  },
  {
   "cell_type": "code",
   "execution_count": 5,
   "metadata": {},
   "outputs": [],
   "source": [
    "IMAGES_PATH = os.path.join('Tensorflow', 'workspace', 'images', 'collectedimages')"
   ]
  },
  {
   "cell_type": "code",
   "execution_count": 6,
   "metadata": {},
   "outputs": [
    {
     "name": "stdout",
     "output_type": "stream",
     "text": [
      "Tensorflow\\workspace\\images\\collectedimages\n"
     ]
    }
   ],
   "source": [
    "print(IMAGES_PATH)"
   ]
  },
  {
   "cell_type": "code",
   "execution_count": 7,
   "metadata": {},
   "outputs": [],
   "source": [
    "if not os.path.exists(IMAGES_PATH):\n",
    "    if os.name == 'posix':\n",
    "        !mkdir -p {IMAGES_PATH}\n",
    "    if os.name == 'nt':\n",
    "         !mkdir {IMAGES_PATH}\n",
    "for produit in produits:\n",
    "    path = os.path.join(IMAGES_PATH, produit)\n",
    "    if not os.path.exists(path):\n",
    "        !mkdir {path}"
   ]
  },
  {
   "cell_type": "markdown",
   "metadata": {},
   "source": [
    "# 4. Capturation des images a partir du webcam "
   ]
  },
  {
   "cell_type": "markdown",
   "metadata": {},
   "source": [
    "### après avoir collecté les images de la webcam. Il est maintenant temps d'annoter chaque image dans sa classe appropriée."
   ]
  },
  {
   "cell_type": "markdown",
   "metadata": {},
   "source": [
    "# 5. annotations des images "
   ]
  },
  {
   "cell_type": "code",
   "execution_count": 8,
   "metadata": {},
   "outputs": [
    {
     "name": "stdout",
     "output_type": "stream",
     "text": [
      "Requirement already satisfied: pyqt5 in c:\\users\\takia\\onedrive\\desktop\\medianet\\model 4\\model-2\\env\\lib\\site-packages (5.15.10)\n",
      "Requirement already satisfied: lxml in c:\\users\\takia\\onedrive\\desktop\\medianet\\model 4\\model-2\\env\\lib\\site-packages (5.2.1)\n",
      "Requirement already satisfied: PyQt5-sip<13,>=12.13 in c:\\users\\takia\\onedrive\\desktop\\medianet\\model 4\\model-2\\env\\lib\\site-packages (from pyqt5) (12.13.0)\n",
      "Requirement already satisfied: PyQt5-Qt5>=5.15.2 in c:\\users\\takia\\onedrive\\desktop\\medianet\\model 4\\model-2\\env\\lib\\site-packages (from pyqt5) (5.15.2)\n"
     ]
    }
   ],
   "source": [
    "!pip install --upgrade pyqt5 lxml"
   ]
  },
  {
   "cell_type": "code",
   "execution_count": 9,
   "metadata": {},
   "outputs": [],
   "source": [
    "LABELIMG_PATH = os.path.join('Tensorflow', 'labelimg')"
   ]
  },
  {
   "cell_type": "code",
   "execution_count": 10,
   "metadata": {},
   "outputs": [
    {
     "name": "stderr",
     "output_type": "stream",
     "text": [
      "Cloning into 'Tensorflow\\labelimg'...\n"
     ]
    }
   ],
   "source": [
    "if not os.path.exists(LABELIMG_PATH):\n",
    "    !mkdir {LABELIMG_PATH}\n",
    "    !git clone https://github.com/HumanSignal/labelImg.git {LABELIMG_PATH}"
   ]
  },
  {
   "cell_type": "markdown",
   "metadata": {},
   "source": [
    "# 6. Ouvrir LabelImg pour annoter les images capturées pour chaque classe :"
   ]
  },
  {
   "cell_type": "code",
   "execution_count": 11,
   "metadata": {},
   "outputs": [],
   "source": [
    "if os.name == 'posix':\n",
    "    !make qt5py3\n",
    "if os.name =='nt':\n",
    "    !cd {LABELIMG_PATH} && pyrcc5 -o libs/resources.py resources.qrc"
   ]
  },
  {
   "cell_type": "code",
   "execution_count": 13,
   "metadata": {},
   "outputs": [
    {
     "name": "stdout",
     "output_type": "stream",
     "text": [
      "Image:C:\\Users\\takia\\OneDrive\\Desktop\\MediaNet\\Model 4\\Model-2\\Tensorflow\\workspace\\images\\collectedimages\\prod1\\WIN_20240504_14_47_20_Pro.jpg -> Annotation:C:/Users/takia/OneDrive/Desktop/MediaNet/Model 4/Model-2/Tensorflow/workspace/images/collectedimages/prod1\\WIN_20240504_14_47_20_Pro.xml\n",
      "Image:C:\\Users\\takia\\OneDrive\\Desktop\\MediaNet\\Model 4\\Model-2\\Tensorflow\\workspace\\images\\collectedimages\\prod1\\WIN_20240504_14_47_20_Pro.jpg -> Annotation:C:/Users/takia/OneDrive/Desktop/MediaNet/Model 4/Model-2/Tensorflow/workspace/images/collectedimages/prod1\\WIN_20240504_14_47_20_Pro.xml\n",
      "Image:C:\\Users\\takia\\OneDrive\\Desktop\\MediaNet\\Model 4\\Model-2\\Tensorflow\\workspace\\images\\collectedimages\\prod1\\WIN_20240504_14_47_21_Pro.jpg -> Annotation:C:/Users/takia/OneDrive/Desktop/MediaNet/Model 4/Model-2/Tensorflow/workspace/images/collectedimages/prod1\\WIN_20240504_14_47_21_Pro.xml\n",
      "Image:C:\\Users\\takia\\OneDrive\\Desktop\\MediaNet\\Model 4\\Model-2\\Tensorflow\\workspace\\images\\collectedimages\\prod1\\WIN_20240504_14_47_24_Pro.jpg -> Annotation:C:/Users/takia/OneDrive/Desktop/MediaNet/Model 4/Model-2/Tensorflow/workspace/images/collectedimages/prod1\\WIN_20240504_14_47_24_Pro.xml\n",
      "Image:C:\\Users\\takia\\OneDrive\\Desktop\\MediaNet\\Model 4\\Model-2\\Tensorflow\\workspace\\images\\collectedimages\\prod1\\WIN_20240504_14_47_26_Pro.jpg -> Annotation:C:/Users/takia/OneDrive/Desktop/MediaNet/Model 4/Model-2/Tensorflow/workspace/images/collectedimages/prod1\\WIN_20240504_14_47_26_Pro.xml\n",
      "Image:C:\\Users\\takia\\OneDrive\\Desktop\\MediaNet\\Model 4\\Model-2\\Tensorflow\\workspace\\images\\collectedimages\\prod1\\WIN_20240504_14_47_28_Pro.jpg -> Annotation:C:/Users/takia/OneDrive/Desktop/MediaNet/Model 4/Model-2/Tensorflow/workspace/images/collectedimages/prod1\\WIN_20240504_14_47_28_Pro.xml\n",
      "Image:C:\\Users\\takia\\OneDrive\\Desktop\\MediaNet\\Model 4\\Model-2\\Tensorflow\\workspace\\images\\collectedimages\\prod1\\WIN_20240504_14_47_30_Pro.jpg -> Annotation:C:/Users/takia/OneDrive/Desktop/MediaNet/Model 4/Model-2/Tensorflow/workspace/images/collectedimages/prod1\\WIN_20240504_14_47_30_Pro.xml\n",
      "Image:C:\\Users\\takia\\OneDrive\\Desktop\\MediaNet\\Model 4\\Model-2\\Tensorflow\\workspace\\images\\collectedimages\\prod1\\WIN_20240504_14_47_31_Pro.jpg -> Annotation:C:/Users/takia/OneDrive/Desktop/MediaNet/Model 4/Model-2/Tensorflow/workspace/images/collectedimages/prod1\\WIN_20240504_14_47_31_Pro.xml\n",
      "Image:C:\\Users\\takia\\OneDrive\\Desktop\\MediaNet\\Model 4\\Model-2\\Tensorflow\\workspace\\images\\collectedimages\\prod1\\WIN_20240504_14_47_33_Pro.jpg -> Annotation:C:/Users/takia/OneDrive/Desktop/MediaNet/Model 4/Model-2/Tensorflow/workspace/images/collectedimages/prod1\\WIN_20240504_14_47_33_Pro.xml\n",
      "Image:C:\\Users\\takia\\OneDrive\\Desktop\\MediaNet\\Model 4\\Model-2\\Tensorflow\\workspace\\images\\collectedimages\\prod1\\WIN_20240504_14_47_35_Pro.jpg -> Annotation:C:/Users/takia/OneDrive/Desktop/MediaNet/Model 4/Model-2/Tensorflow/workspace/images/collectedimages/prod1\\WIN_20240504_14_47_35_Pro.xml\n",
      "Image:C:\\Users\\takia\\OneDrive\\Desktop\\MediaNet\\Model 4\\Model-2\\Tensorflow\\workspace\\images\\collectedimages\\prod1\\WIN_20240504_14_47_37_Pro.jpg -> Annotation:C:/Users/takia/OneDrive/Desktop/MediaNet/Model 4/Model-2/Tensorflow/workspace/images/collectedimages/prod1\\WIN_20240504_14_47_37_Pro.xml\n",
      "Image:C:\\Users\\takia\\OneDrive\\Desktop\\MediaNet\\Model 4\\Model-2\\Tensorflow\\workspace\\images\\collectedimages\\prod1\\WIN_20240504_14_47_38_Pro (2).jpg -> Annotation:C:/Users/takia/OneDrive/Desktop/MediaNet/Model 4/Model-2/Tensorflow/workspace/images/collectedimages/prod1\\WIN_20240504_14_47_38_Pro (2).xml\n",
      "Image:C:\\Users\\takia\\OneDrive\\Desktop\\MediaNet\\Model 4\\Model-2\\Tensorflow\\workspace\\images\\collectedimages\\prod1\\WIN_20240504_14_47_38_Pro.jpg -> Annotation:C:/Users/takia/OneDrive/Desktop/MediaNet/Model 4/Model-2/Tensorflow/workspace/images/collectedimages/prod1\\WIN_20240504_14_47_38_Pro.xml\n",
      "Image:C:\\Users\\takia\\OneDrive\\Desktop\\MediaNet\\Model 4\\Model-2\\Tensorflow\\workspace\\images\\collectedimages\\prod1\\WIN_20240504_14_47_42_Pro.jpg -> Annotation:C:/Users/takia/OneDrive/Desktop/MediaNet/Model 4/Model-2/Tensorflow/workspace/images/collectedimages/prod1\\WIN_20240504_14_47_42_Pro.xml\n",
      "Image:C:\\Users\\takia\\OneDrive\\Desktop\\MediaNet\\Model 4\\Model-2\\Tensorflow\\workspace\\images\\collectedimages\\prod1\\WIN_20240504_14_47_43_Pro.jpg -> Annotation:C:/Users/takia/OneDrive/Desktop/MediaNet/Model 4/Model-2/Tensorflow/workspace/images/collectedimages/prod1\\WIN_20240504_14_47_43_Pro.xml\n",
      "Image:C:\\Users\\takia\\OneDrive\\Desktop\\MediaNet\\Model 4\\Model-2\\Tensorflow\\workspace\\images\\collectedimages\\prod1\\WIN_20240504_14_47_44_Pro.jpg -> Annotation:C:/Users/takia/OneDrive/Desktop/MediaNet/Model 4/Model-2/Tensorflow/workspace/images/collectedimages/prod1\\WIN_20240504_14_47_44_Pro.xml\n",
      "Image:C:\\Users\\takia\\OneDrive\\Desktop\\MediaNet\\Model 4\\Model-2\\Tensorflow\\workspace\\images\\collectedimages\\prod1\\WIN_20240504_14_47_46_Pro (2).jpg -> Annotation:C:/Users/takia/OneDrive/Desktop/MediaNet/Model 4/Model-2/Tensorflow/workspace/images/collectedimages/prod1\\WIN_20240504_14_47_46_Pro (2).xml\n",
      "Image:C:\\Users\\takia\\OneDrive\\Desktop\\MediaNet\\Model 4\\Model-2\\Tensorflow\\workspace\\images\\collectedimages\\prod1\\WIN_20240504_14_47_46_Pro.jpg -> Annotation:C:/Users/takia/OneDrive/Desktop/MediaNet/Model 4/Model-2/Tensorflow/workspace/images/collectedimages/prod1\\WIN_20240504_14_47_46_Pro.xml\n",
      "Image:C:\\Users\\takia\\OneDrive\\Desktop\\MediaNet\\Model 4\\Model-2\\Tensorflow\\workspace\\images\\collectedimages\\prod1\\WIN_20240504_14_47_48_Pro.jpg -> Annotation:C:/Users/takia/OneDrive/Desktop/MediaNet/Model 4/Model-2/Tensorflow/workspace/images/collectedimages/prod1\\WIN_20240504_14_47_48_Pro.xml\n",
      "Image:C:\\Users\\takia\\OneDrive\\Desktop\\MediaNet\\Model 4\\Model-2\\Tensorflow\\workspace\\images\\collectedimages\\prod1\\WIN_20240504_14_47_50_Pro.jpg -> Annotation:C:/Users/takia/OneDrive/Desktop/MediaNet/Model 4/Model-2/Tensorflow/workspace/images/collectedimages/prod1\\WIN_20240504_14_47_50_Pro.xml\n",
      "Image:C:\\Users\\takia\\OneDrive\\Desktop\\MediaNet\\Model 4\\Model-2\\Tensorflow\\workspace\\images\\collectedimages\\prod1\\WIN_20240504_14_47_51_Pro (2).jpg -> Annotation:C:/Users/takia/OneDrive/Desktop/MediaNet/Model 4/Model-2/Tensorflow/workspace/images/collectedimages/prod1\\WIN_20240504_14_47_51_Pro (2).xml\n",
      "Image:C:\\Users\\takia\\OneDrive\\Desktop\\MediaNet\\Model 4\\Model-2\\Tensorflow\\workspace\\images\\collectedimages\\prod1\\WIN_20240504_14_47_51_Pro.jpg -> Annotation:C:/Users/takia/OneDrive/Desktop/MediaNet/Model 4/Model-2/Tensorflow/workspace/images/collectedimages/prod1\\WIN_20240504_14_47_51_Pro.xml\n",
      "Image:C:\\Users\\takia\\OneDrive\\Desktop\\MediaNet\\Model 4\\Model-2\\Tensorflow\\workspace\\images\\collectedimages\\prod1\\WIN_20240504_14_47_52_Pro.jpg -> Annotation:C:/Users/takia/OneDrive/Desktop/MediaNet/Model 4/Model-2/Tensorflow/workspace/images/collectedimages/prod1\\WIN_20240504_14_47_52_Pro.xml\n",
      "Image:C:\\Users\\takia\\OneDrive\\Desktop\\MediaNet\\Model 4\\Model-2\\Tensorflow\\workspace\\images\\collectedimages\\prod2\\WIN_20240504_14_52_42_Pro.jpg -> Annotation:C:/Users/takia/OneDrive/Desktop/MediaNet/Model 4/Model-2/Tensorflow/workspace/images/collectedimages/prod2\\WIN_20240504_14_52_42_Pro.xml\n",
      "Image:C:\\Users\\takia\\OneDrive\\Desktop\\MediaNet\\Model 4\\Model-2\\Tensorflow\\workspace\\images\\collectedimages\\prod2\\WIN_20240504_14_52_43_Pro.jpg -> Annotation:C:/Users/takia/OneDrive/Desktop/MediaNet/Model 4/Model-2/Tensorflow/workspace/images/collectedimages/prod2\\WIN_20240504_14_52_43_Pro.xml\n",
      "Image:C:\\Users\\takia\\OneDrive\\Desktop\\MediaNet\\Model 4\\Model-2\\Tensorflow\\workspace\\images\\collectedimages\\prod2\\WIN_20240504_14_52_46_Pro.jpg -> Annotation:C:/Users/takia/OneDrive/Desktop/MediaNet/Model 4/Model-2/Tensorflow/workspace/images/collectedimages/prod2\\WIN_20240504_14_52_46_Pro.xml\n",
      "Image:C:\\Users\\takia\\OneDrive\\Desktop\\MediaNet\\Model 4\\Model-2\\Tensorflow\\workspace\\images\\collectedimages\\prod2\\WIN_20240504_14_52_47_Pro.jpg -> Annotation:C:/Users/takia/OneDrive/Desktop/MediaNet/Model 4/Model-2/Tensorflow/workspace/images/collectedimages/prod2\\WIN_20240504_14_52_47_Pro.xml\n",
      "Image:C:\\Users\\takia\\OneDrive\\Desktop\\MediaNet\\Model 4\\Model-2\\Tensorflow\\workspace\\images\\collectedimages\\prod2\\WIN_20240504_14_52_49_Pro.jpg -> Annotation:C:/Users/takia/OneDrive/Desktop/MediaNet/Model 4/Model-2/Tensorflow/workspace/images/collectedimages/prod2\\WIN_20240504_14_52_49_Pro.xml\n",
      "Image:C:\\Users\\takia\\OneDrive\\Desktop\\MediaNet\\Model 4\\Model-2\\Tensorflow\\workspace\\images\\collectedimages\\prod2\\WIN_20240504_14_52_49_Pro.jpg -> Annotation:C:/Users/takia/OneDrive/Desktop/MediaNet/Model 4/Model-2/Tensorflow/workspace/images/collectedimages/prod2\\WIN_20240504_14_52_49_Pro.xml\n",
      "Image:C:\\Users\\takia\\OneDrive\\Desktop\\MediaNet\\Model 4\\Model-2\\Tensorflow\\workspace\\images\\collectedimages\\prod2\\WIN_20240504_14_52_50_Pro.jpg -> Annotation:C:/Users/takia/OneDrive/Desktop/MediaNet/Model 4/Model-2/Tensorflow/workspace/images/collectedimages/prod2\\WIN_20240504_14_52_50_Pro.xml\n",
      "Image:C:\\Users\\takia\\OneDrive\\Desktop\\MediaNet\\Model 4\\Model-2\\Tensorflow\\workspace\\images\\collectedimages\\prod2\\WIN_20240504_14_52_50_Pro.jpg -> Annotation:C:/Users/takia/OneDrive/Desktop/MediaNet/Model 4/Model-2/Tensorflow/workspace/images/collectedimages/prod2\\WIN_20240504_14_52_50_Pro.xml\n",
      "Image:C:\\Users\\takia\\OneDrive\\Desktop\\MediaNet\\Model 4\\Model-2\\Tensorflow\\workspace\\images\\collectedimages\\prod2\\WIN_20240504_14_52_53_Pro.jpg -> Annotation:C:/Users/takia/OneDrive/Desktop/MediaNet/Model 4/Model-2/Tensorflow/workspace/images/collectedimages/prod2\\WIN_20240504_14_52_53_Pro.xml\n",
      "Image:C:\\Users\\takia\\OneDrive\\Desktop\\MediaNet\\Model 4\\Model-2\\Tensorflow\\workspace\\images\\collectedimages\\prod2\\WIN_20240504_14_52_55_Pro.jpg -> Annotation:C:/Users/takia/OneDrive/Desktop/MediaNet/Model 4/Model-2/Tensorflow/workspace/images/collectedimages/prod2\\WIN_20240504_14_52_55_Pro.xml\n",
      "Image:C:\\Users\\takia\\OneDrive\\Desktop\\MediaNet\\Model 4\\Model-2\\Tensorflow\\workspace\\images\\collectedimages\\prod2\\WIN_20240504_14_52_58_Pro.jpg -> Annotation:C:/Users/takia/OneDrive/Desktop/MediaNet/Model 4/Model-2/Tensorflow/workspace/images/collectedimages/prod2\\WIN_20240504_14_52_58_Pro.xml\n",
      "Image:C:\\Users\\takia\\OneDrive\\Desktop\\MediaNet\\Model 4\\Model-2\\Tensorflow\\workspace\\images\\collectedimages\\prod2\\WIN_20240504_14_52_59_Pro.jpg -> Annotation:C:/Users/takia/OneDrive/Desktop/MediaNet/Model 4/Model-2/Tensorflow/workspace/images/collectedimages/prod2\\WIN_20240504_14_52_59_Pro.xml\n",
      "Image:C:\\Users\\takia\\OneDrive\\Desktop\\MediaNet\\Model 4\\Model-2\\Tensorflow\\workspace\\images\\collectedimages\\prod2\\WIN_20240504_14_53_01_Pro.jpg -> Annotation:C:/Users/takia/OneDrive/Desktop/MediaNet/Model 4/Model-2/Tensorflow/workspace/images/collectedimages/prod2\\WIN_20240504_14_53_01_Pro.xml\n",
      "Image:C:\\Users\\takia\\OneDrive\\Desktop\\MediaNet\\Model 4\\Model-2\\Tensorflow\\workspace\\images\\collectedimages\\prod2\\WIN_20240504_14_53_02_Pro.jpg -> Annotation:C:/Users/takia/OneDrive/Desktop/MediaNet/Model 4/Model-2/Tensorflow/workspace/images/collectedimages/prod2\\WIN_20240504_14_53_02_Pro.xml\n",
      "Image:C:\\Users\\takia\\OneDrive\\Desktop\\MediaNet\\Model 4\\Model-2\\Tensorflow\\workspace\\images\\collectedimages\\prod2\\WIN_20240504_14_53_04_Pro.jpg -> Annotation:C:/Users/takia/OneDrive/Desktop/MediaNet/Model 4/Model-2/Tensorflow/workspace/images/collectedimages/prod2\\WIN_20240504_14_53_04_Pro.xml\n",
      "Image:C:\\Users\\takia\\OneDrive\\Desktop\\MediaNet\\Model 4\\Model-2\\Tensorflow\\workspace\\images\\collectedimages\\prod2\\WIN_20240504_14_53_05_Pro.jpg -> Annotation:C:/Users/takia/OneDrive/Desktop/MediaNet/Model 4/Model-2/Tensorflow/workspace/images/collectedimages/prod2\\WIN_20240504_14_53_05_Pro.xml\n",
      "Image:C:\\Users\\takia\\OneDrive\\Desktop\\MediaNet\\Model 4\\Model-2\\Tensorflow\\workspace\\images\\collectedimages\\prod2\\WIN_20240504_14_53_07_Pro.jpg -> Annotation:C:/Users/takia/OneDrive/Desktop/MediaNet/Model 4/Model-2/Tensorflow/workspace/images/collectedimages/prod2\\WIN_20240504_14_53_07_Pro.xml\n",
      "Image:C:\\Users\\takia\\OneDrive\\Desktop\\MediaNet\\Model 4\\Model-2\\Tensorflow\\workspace\\images\\collectedimages\\prod2\\WIN_20240504_14_53_51_Pro.jpg -> Annotation:C:/Users/takia/OneDrive/Desktop/MediaNet/Model 4/Model-2/Tensorflow/workspace/images/collectedimages/prod2\\WIN_20240504_14_53_51_Pro.xml\n",
      "Image:C:\\Users\\takia\\OneDrive\\Desktop\\MediaNet\\Model 4\\Model-2\\Tensorflow\\workspace\\images\\collectedimages\\prod2\\WIN_20240504_14_53_52_Pro.jpg -> Annotation:C:/Users/takia/OneDrive/Desktop/MediaNet/Model 4/Model-2/Tensorflow/workspace/images/collectedimages/prod2\\WIN_20240504_14_53_52_Pro.xml\n",
      "Image:C:\\Users\\takia\\OneDrive\\Desktop\\MediaNet\\Model 4\\Model-2\\Tensorflow\\workspace\\images\\collectedimages\\prod2\\WIN_20240504_14_53_54_Pro.jpg -> Annotation:C:/Users/takia/OneDrive/Desktop/MediaNet/Model 4/Model-2/Tensorflow/workspace/images/collectedimages/prod2\\WIN_20240504_14_53_54_Pro.xml\n",
      "Image:C:\\Users\\takia\\OneDrive\\Desktop\\MediaNet\\Model 4\\Model-2\\Tensorflow\\workspace\\images\\collectedimages\\prod2\\WIN_20240504_14_53_56_Pro.jpg -> Annotation:C:/Users/takia/OneDrive/Desktop/MediaNet/Model 4/Model-2/Tensorflow/workspace/images/collectedimages/prod2\\WIN_20240504_14_53_56_Pro.xml\n",
      "Image:C:\\Users\\takia\\OneDrive\\Desktop\\MediaNet\\Model 4\\Model-2\\Tensorflow\\workspace\\images\\collectedimages\\prod2\\WIN_20240504_14_53_59_Pro.jpg -> Annotation:C:/Users/takia/OneDrive/Desktop/MediaNet/Model 4/Model-2/Tensorflow/workspace/images/collectedimages/prod2\\WIN_20240504_14_53_59_Pro.xml\n",
      "Image:C:\\Users\\takia\\OneDrive\\Desktop\\MediaNet\\Model 4\\Model-2\\Tensorflow\\workspace\\images\\collectedimages\\prod2\\WIN_20240504_14_54_01_Pro.jpg -> Annotation:C:/Users/takia/OneDrive/Desktop/MediaNet/Model 4/Model-2/Tensorflow/workspace/images/collectedimages/prod2\\WIN_20240504_14_54_01_Pro.xml\n",
      "Image:C:\\Users\\takia\\OneDrive\\Desktop\\MediaNet\\Model 4\\Model-2\\Tensorflow\\workspace\\images\\collectedimages\\prod2\\WIN_20240504_14_54_02_Pro.jpg -> Annotation:C:/Users/takia/OneDrive/Desktop/MediaNet/Model 4/Model-2/Tensorflow/workspace/images/collectedimages/prod2\\WIN_20240504_14_54_02_Pro.xml\n",
      "Image:C:\\Users\\takia\\OneDrive\\Desktop\\MediaNet\\Model 4\\Model-2\\Tensorflow\\workspace\\images\\collectedimages\\prod2\\WIN_20240504_14_54_03_Pro.jpg -> Annotation:C:/Users/takia/OneDrive/Desktop/MediaNet/Model 4/Model-2/Tensorflow/workspace/images/collectedimages/prod2\\WIN_20240504_14_54_03_Pro.xml\n",
      "Image:C:\\Users\\takia\\OneDrive\\Desktop\\MediaNet\\Model 4\\Model-2\\Tensorflow\\workspace\\images\\collectedimages\\prod2\\WIN_20240504_14_54_04_Pro.jpg -> Annotation:C:/Users/takia/OneDrive/Desktop/MediaNet/Model 4/Model-2/Tensorflow/workspace/images/collectedimages/prod2\\WIN_20240504_14_54_04_Pro.xml\n",
      "Image:C:\\Users\\takia\\OneDrive\\Desktop\\MediaNet\\Model 4\\Model-2\\Tensorflow\\workspace\\images\\collectedimages\\prod2\\WIN_20240504_14_54_05_Pro.jpg -> Annotation:C:/Users/takia/OneDrive/Desktop/MediaNet/Model 4/Model-2/Tensorflow/workspace/images/collectedimages/prod2\\WIN_20240504_14_54_05_Pro.xml\n",
      "Image:C:\\Users\\takia\\OneDrive\\Desktop\\MediaNet\\Model 4\\Model-2\\Tensorflow\\workspace\\images\\collectedimages\\prod2\\WIN_20240504_14_54_06_Pro.jpg -> Annotation:C:/Users/takia/OneDrive/Desktop/MediaNet/Model 4/Model-2/Tensorflow/workspace/images/collectedimages/prod2\\WIN_20240504_14_54_06_Pro.xml\n",
      "Image:C:\\Users\\takia\\OneDrive\\Desktop\\MediaNet\\Model 4\\Model-2\\Tensorflow\\workspace\\images\\collectedimages\\prod2\\WIN_20240504_14_54_07_Pro.jpg -> Annotation:C:/Users/takia/OneDrive/Desktop/MediaNet/Model 4/Model-2/Tensorflow/workspace/images/collectedimages/prod2\\WIN_20240504_14_54_07_Pro.xml\n",
      "Image:C:\\Users\\takia\\OneDrive\\Desktop\\MediaNet\\Model 4\\Model-2\\Tensorflow\\workspace\\images\\collectedimages\\prod3\\WIN_20240504_14_56_56_Pro (2).jpg -> Annotation:C:/Users/takia/OneDrive/Desktop/MediaNet/Model 4/Model-2/Tensorflow/workspace/images/collectedimages/prod3\\WIN_20240504_14_56_56_Pro (2).xml\n",
      "Image:C:\\Users\\takia\\OneDrive\\Desktop\\MediaNet\\Model 4\\Model-2\\Tensorflow\\workspace\\images\\collectedimages\\prod3\\WIN_20240504_14_56_56_Pro.jpg -> Annotation:C:/Users/takia/OneDrive/Desktop/MediaNet/Model 4/Model-2/Tensorflow/workspace/images/collectedimages/prod3\\WIN_20240504_14_56_56_Pro.xml\n",
      "Image:C:\\Users\\takia\\OneDrive\\Desktop\\MediaNet\\Model 4\\Model-2\\Tensorflow\\workspace\\images\\collectedimages\\prod3\\WIN_20240504_14_56_57_Pro.jpg -> Annotation:C:/Users/takia/OneDrive/Desktop/MediaNet/Model 4/Model-2/Tensorflow/workspace/images/collectedimages/prod3\\WIN_20240504_14_56_57_Pro.xml\n",
      "Image:C:\\Users\\takia\\OneDrive\\Desktop\\MediaNet\\Model 4\\Model-2\\Tensorflow\\workspace\\images\\collectedimages\\prod3\\WIN_20240504_14_56_58_Pro (2).jpg -> Annotation:C:/Users/takia/OneDrive/Desktop/MediaNet/Model 4/Model-2/Tensorflow/workspace/images/collectedimages/prod3\\WIN_20240504_14_56_58_Pro (2).xml\n",
      "Image:C:\\Users\\takia\\OneDrive\\Desktop\\MediaNet\\Model 4\\Model-2\\Tensorflow\\workspace\\images\\collectedimages\\prod3\\WIN_20240504_14_56_58_Pro.jpg -> Annotation:C:/Users/takia/OneDrive/Desktop/MediaNet/Model 4/Model-2/Tensorflow/workspace/images/collectedimages/prod3\\WIN_20240504_14_56_58_Pro.xml\n",
      "Image:C:\\Users\\takia\\OneDrive\\Desktop\\MediaNet\\Model 4\\Model-2\\Tensorflow\\workspace\\images\\collectedimages\\prod3\\WIN_20240504_14_56_59_Pro.jpg -> Annotation:C:/Users/takia/OneDrive/Desktop/MediaNet/Model 4/Model-2/Tensorflow/workspace/images/collectedimages/prod3\\WIN_20240504_14_56_59_Pro.xml\n",
      "Image:C:\\Users\\takia\\OneDrive\\Desktop\\MediaNet\\Model 4\\Model-2\\Tensorflow\\workspace\\images\\collectedimages\\prod3\\WIN_20240504_14_57_00_Pro.jpg -> Annotation:C:/Users/takia/OneDrive/Desktop/MediaNet/Model 4/Model-2/Tensorflow/workspace/images/collectedimages/prod3\\WIN_20240504_14_57_00_Pro.xml\n",
      "Image:C:\\Users\\takia\\OneDrive\\Desktop\\MediaNet\\Model 4\\Model-2\\Tensorflow\\workspace\\images\\collectedimages\\prod3\\WIN_20240504_14_57_01_Pro (2).jpg -> Annotation:C:/Users/takia/OneDrive/Desktop/MediaNet/Model 4/Model-2/Tensorflow/workspace/images/collectedimages/prod3\\WIN_20240504_14_57_01_Pro (2).xml\n",
      "Image:C:\\Users\\takia\\OneDrive\\Desktop\\MediaNet\\Model 4\\Model-2\\Tensorflow\\workspace\\images\\collectedimages\\prod3\\WIN_20240504_14_57_01_Pro.jpg -> Annotation:C:/Users/takia/OneDrive/Desktop/MediaNet/Model 4/Model-2/Tensorflow/workspace/images/collectedimages/prod3\\WIN_20240504_14_57_01_Pro.xml\n",
      "Image:C:\\Users\\takia\\OneDrive\\Desktop\\MediaNet\\Model 4\\Model-2\\Tensorflow\\workspace\\images\\collectedimages\\prod3\\WIN_20240504_14_57_02_Pro.jpg -> Annotation:C:/Users/takia/OneDrive/Desktop/MediaNet/Model 4/Model-2/Tensorflow/workspace/images/collectedimages/prod3\\WIN_20240504_14_57_02_Pro.xml\n",
      "Image:C:\\Users\\takia\\OneDrive\\Desktop\\MediaNet\\Model 4\\Model-2\\Tensorflow\\workspace\\images\\collectedimages\\prod3\\WIN_20240504_14_57_04_Pro (2).jpg -> Annotation:C:/Users/takia/OneDrive/Desktop/MediaNet/Model 4/Model-2/Tensorflow/workspace/images/collectedimages/prod3\\WIN_20240504_14_57_04_Pro (2).xml\n",
      "Image:C:\\Users\\takia\\OneDrive\\Desktop\\MediaNet\\Model 4\\Model-2\\Tensorflow\\workspace\\images\\collectedimages\\prod3\\WIN_20240504_14_57_04_Pro.jpg -> Annotation:C:/Users/takia/OneDrive/Desktop/MediaNet/Model 4/Model-2/Tensorflow/workspace/images/collectedimages/prod3\\WIN_20240504_14_57_04_Pro.xml\n",
      "Image:C:\\Users\\takia\\OneDrive\\Desktop\\MediaNet\\Model 4\\Model-2\\Tensorflow\\workspace\\images\\collectedimages\\prod3\\WIN_20240504_14_57_05_Pro.jpg -> Annotation:C:/Users/takia/OneDrive/Desktop/MediaNet/Model 4/Model-2/Tensorflow/workspace/images/collectedimages/prod3\\WIN_20240504_14_57_05_Pro.xml\n",
      "Image:C:\\Users\\takia\\OneDrive\\Desktop\\MediaNet\\Model 4\\Model-2\\Tensorflow\\workspace\\images\\collectedimages\\prod3\\WIN_20240504_14_57_06_Pro.jpg -> Annotation:C:/Users/takia/OneDrive/Desktop/MediaNet/Model 4/Model-2/Tensorflow/workspace/images/collectedimages/prod3\\WIN_20240504_14_57_06_Pro.xml\n",
      "Image:C:\\Users\\takia\\OneDrive\\Desktop\\MediaNet\\Model 4\\Model-2\\Tensorflow\\workspace\\images\\collectedimages\\prod3\\WIN_20240504_14_57_07_Pro (2).jpg -> Annotation:C:/Users/takia/OneDrive/Desktop/MediaNet/Model 4/Model-2/Tensorflow/workspace/images/collectedimages/prod3\\WIN_20240504_14_57_07_Pro (2).xml\n",
      "Image:C:\\Users\\takia\\OneDrive\\Desktop\\MediaNet\\Model 4\\Model-2\\Tensorflow\\workspace\\images\\collectedimages\\prod3\\WIN_20240504_14_57_08_Pro.jpg -> Annotation:C:/Users/takia/OneDrive/Desktop/MediaNet/Model 4/Model-2/Tensorflow/workspace/images/collectedimages/prod3\\WIN_20240504_14_57_08_Pro.xml\n",
      "Image:C:\\Users\\takia\\OneDrive\\Desktop\\MediaNet\\Model 4\\Model-2\\Tensorflow\\workspace\\images\\collectedimages\\prod3\\WIN_20240504_14_57_09_Pro.jpg -> Annotation:C:/Users/takia/OneDrive/Desktop/MediaNet/Model 4/Model-2/Tensorflow/workspace/images/collectedimages/prod3\\WIN_20240504_14_57_09_Pro.xml\n",
      "Image:C:\\Users\\takia\\OneDrive\\Desktop\\MediaNet\\Model 4\\Model-2\\Tensorflow\\workspace\\images\\collectedimages\\prod3\\WIN_20240504_14_57_10_Pro (2).jpg -> Annotation:C:/Users/takia/OneDrive/Desktop/MediaNet/Model 4/Model-2/Tensorflow/workspace/images/collectedimages/prod3\\WIN_20240504_14_57_10_Pro (2).xml\n",
      "Image:C:\\Users\\takia\\OneDrive\\Desktop\\MediaNet\\Model 4\\Model-2\\Tensorflow\\workspace\\images\\collectedimages\\prod3\\WIN_20240504_14_57_10_Pro.jpg -> Annotation:C:/Users/takia/OneDrive/Desktop/MediaNet/Model 4/Model-2/Tensorflow/workspace/images/collectedimages/prod3\\WIN_20240504_14_57_10_Pro.xml\n",
      "Image:C:\\Users\\takia\\OneDrive\\Desktop\\MediaNet\\Model 4\\Model-2\\Tensorflow\\workspace\\images\\collectedimages\\prod3\\WIN_20240504_14_57_11_Pro.jpg -> Annotation:C:/Users/takia/OneDrive/Desktop/MediaNet/Model 4/Model-2/Tensorflow/workspace/images/collectedimages/prod3\\WIN_20240504_14_57_11_Pro.xml\n",
      "Image:C:\\Users\\takia\\OneDrive\\Desktop\\MediaNet\\Model 4\\Model-2\\Tensorflow\\workspace\\images\\collectedimages\\prod3\\WIN_20240504_14_57_12_Pro (2).jpg -> Annotation:C:/Users/takia/OneDrive/Desktop/MediaNet/Model 4/Model-2/Tensorflow/workspace/images/collectedimages/prod3\\WIN_20240504_14_57_12_Pro (2).xml\n",
      "Image:C:\\Users\\takia\\OneDrive\\Desktop\\MediaNet\\Model 4\\Model-2\\Tensorflow\\workspace\\images\\collectedimages\\prod3\\WIN_20240504_14_57_12_Pro.jpg -> Annotation:C:/Users/takia/OneDrive/Desktop/MediaNet/Model 4/Model-2/Tensorflow/workspace/images/collectedimages/prod3\\WIN_20240504_14_57_12_Pro.xml\n",
      "Image:C:\\Users\\takia\\OneDrive\\Desktop\\MediaNet\\Model 4\\Model-2\\Tensorflow\\workspace\\images\\collectedimages\\prod3\\WIN_20240504_14_57_13_Pro.jpg -> Annotation:C:/Users/takia/OneDrive/Desktop/MediaNet/Model 4/Model-2/Tensorflow/workspace/images/collectedimages/prod3\\WIN_20240504_14_57_13_Pro.xml\n",
      "Image:C:\\Users\\takia\\OneDrive\\Desktop\\MediaNet\\Model 4\\Model-2\\Tensorflow\\workspace\\images\\collectedimages\\prod3\\WIN_20240504_14_57_14_Pro.jpg -> Annotation:C:/Users/takia/OneDrive/Desktop/MediaNet/Model 4/Model-2/Tensorflow/workspace/images/collectedimages/prod3\\WIN_20240504_14_57_14_Pro.xml\n",
      "Image:C:\\Users\\takia\\OneDrive\\Desktop\\MediaNet\\Model 4\\Model-2\\Tensorflow\\workspace\\images\\collectedimages\\prod3\\WIN_20240504_14_57_15_Pro.jpg -> Annotation:C:/Users/takia/OneDrive/Desktop/MediaNet/Model 4/Model-2/Tensorflow/workspace/images/collectedimages/prod3\\WIN_20240504_14_57_15_Pro.xml\n",
      "Image:C:\\Users\\takia\\OneDrive\\Desktop\\MediaNet\\Model 4\\Model-2\\Tensorflow\\workspace\\images\\collectedimages\\prod3\\WIN_20240504_14_57_16_Pro (2).jpg -> Annotation:C:/Users/takia/OneDrive/Desktop/MediaNet/Model 4/Model-2/Tensorflow/workspace/images/collectedimages/prod3\\WIN_20240504_14_57_16_Pro (2).xml\n",
      "Image:C:\\Users\\takia\\OneDrive\\Desktop\\MediaNet\\Model 4\\Model-2\\Tensorflow\\workspace\\images\\collectedimages\\prod3\\WIN_20240504_14_57_16_Pro.jpg -> Annotation:C:/Users/takia/OneDrive/Desktop/MediaNet/Model 4/Model-2/Tensorflow/workspace/images/collectedimages/prod3\\WIN_20240504_14_57_16_Pro.xml\n",
      "Image:C:\\Users\\takia\\OneDrive\\Desktop\\MediaNet\\Model 4\\Model-2\\Tensorflow\\workspace\\images\\collectedimages\\prod3\\WIN_20240504_14_57_17_Pro (2).jpg -> Annotation:C:/Users/takia/OneDrive/Desktop/MediaNet/Model 4/Model-2/Tensorflow/workspace/images/collectedimages/prod3\\WIN_20240504_14_57_17_Pro (2).xml\n",
      "Image:C:\\Users\\takia\\OneDrive\\Desktop\\MediaNet\\Model 4\\Model-2\\Tensorflow\\workspace\\images\\collectedimages\\prod3\\WIN_20240504_14_57_17_Pro.jpg -> Annotation:C:/Users/takia/OneDrive/Desktop/MediaNet/Model 4/Model-2/Tensorflow/workspace/images/collectedimages/prod3\\WIN_20240504_14_57_17_Pro.xml\n",
      "Image:C:\\Users\\takia\\OneDrive\\Desktop\\MediaNet\\Model 4\\Model-2\\Tensorflow\\workspace\\images\\collectedimages\\prod3\\WIN_20240504_14_57_18_Pro.jpg -> Annotation:C:/Users/takia/OneDrive/Desktop/MediaNet/Model 4/Model-2/Tensorflow/workspace/images/collectedimages/prod3\\WIN_20240504_14_57_18_Pro.xml\n",
      "Image:C:\\Users\\takia\\OneDrive\\Desktop\\MediaNet\\Model 4\\Model-2\\Tensorflow\\workspace\\images\\collectedimages\\prod4\\WIN_20240504_14_54_14_Pro.jpg -> Annotation:C:/Users/takia/OneDrive/Desktop/MediaNet/Model 4/Model-2/Tensorflow/workspace/images/collectedimages/prod4\\WIN_20240504_14_54_14_Pro.xml\n",
      "Image:C:\\Users\\takia\\OneDrive\\Desktop\\MediaNet\\Model 4\\Model-2\\Tensorflow\\workspace\\images\\collectedimages\\prod4\\WIN_20240504_14_54_15_Pro.jpg -> Annotation:C:/Users/takia/OneDrive/Desktop/MediaNet/Model 4/Model-2/Tensorflow/workspace/images/collectedimages/prod4\\WIN_20240504_14_54_15_Pro.xml\n",
      "Image:C:\\Users\\takia\\OneDrive\\Desktop\\MediaNet\\Model 4\\Model-2\\Tensorflow\\workspace\\images\\collectedimages\\prod4\\WIN_20240504_14_54_17_Pro.jpg -> Annotation:C:/Users/takia/OneDrive/Desktop/MediaNet/Model 4/Model-2/Tensorflow/workspace/images/collectedimages/prod4\\WIN_20240504_14_54_17_Pro.xml\n",
      "Image:C:\\Users\\takia\\OneDrive\\Desktop\\MediaNet\\Model 4\\Model-2\\Tensorflow\\workspace\\images\\collectedimages\\prod4\\WIN_20240504_14_54_17_Pro.jpg -> Annotation:C:/Users/takia/OneDrive/Desktop/MediaNet/Model 4/Model-2/Tensorflow/workspace/images/collectedimages/prod4\\WIN_20240504_14_54_17_Pro.xml\n",
      "Image:C:\\Users\\takia\\OneDrive\\Desktop\\MediaNet\\Model 4\\Model-2\\Tensorflow\\workspace\\images\\collectedimages\\prod4\\WIN_20240504_14_54_20_Pro.jpg -> Annotation:C:/Users/takia/OneDrive/Desktop/MediaNet/Model 4/Model-2/Tensorflow/workspace/images/collectedimages/prod4\\WIN_20240504_14_54_20_Pro.xml\n",
      "Image:C:\\Users\\takia\\OneDrive\\Desktop\\MediaNet\\Model 4\\Model-2\\Tensorflow\\workspace\\images\\collectedimages\\prod4\\WIN_20240504_14_54_21_Pro.jpg -> Annotation:C:/Users/takia/OneDrive/Desktop/MediaNet/Model 4/Model-2/Tensorflow/workspace/images/collectedimages/prod4\\WIN_20240504_14_54_21_Pro.xml\n",
      "Image:C:\\Users\\takia\\OneDrive\\Desktop\\MediaNet\\Model 4\\Model-2\\Tensorflow\\workspace\\images\\collectedimages\\prod4\\WIN_20240504_14_54_23_Pro.jpg -> Annotation:C:/Users/takia/OneDrive/Desktop/MediaNet/Model 4/Model-2/Tensorflow/workspace/images/collectedimages/prod4\\WIN_20240504_14_54_23_Pro.xml\n",
      "Cancel creation.\n",
      "Image:C:\\Users\\takia\\OneDrive\\Desktop\\MediaNet\\Model 4\\Model-2\\Tensorflow\\workspace\\images\\collectedimages\\prod4\\WIN_20240504_14_54_24_Pro.jpg -> Annotation:C:/Users/takia/OneDrive/Desktop/MediaNet/Model 4/Model-2/Tensorflow/workspace/images/collectedimages/prod4\\WIN_20240504_14_54_24_Pro.xml\n",
      "Cancel creation.\n",
      "Image:C:\\Users\\takia\\OneDrive\\Desktop\\MediaNet\\Model 4\\Model-2\\Tensorflow\\workspace\\images\\collectedimages\\prod4\\WIN_20240504_14_54_25_Pro.jpg -> Annotation:C:/Users/takia/OneDrive/Desktop/MediaNet/Model 4/Model-2/Tensorflow/workspace/images/collectedimages/prod4\\WIN_20240504_14_54_25_Pro.xml\n",
      "Image:C:\\Users\\takia\\OneDrive\\Desktop\\MediaNet\\Model 4\\Model-2\\Tensorflow\\workspace\\images\\collectedimages\\prod4\\WIN_20240504_14_54_26_Pro.jpg -> Annotation:C:/Users/takia/OneDrive/Desktop/MediaNet/Model 4/Model-2/Tensorflow/workspace/images/collectedimages/prod4\\WIN_20240504_14_54_26_Pro.xml\n",
      "Image:C:\\Users\\takia\\OneDrive\\Desktop\\MediaNet\\Model 4\\Model-2\\Tensorflow\\workspace\\images\\collectedimages\\prod4\\WIN_20240504_14_54_27_Pro.jpg -> Annotation:C:/Users/takia/OneDrive/Desktop/MediaNet/Model 4/Model-2/Tensorflow/workspace/images/collectedimages/prod4\\WIN_20240504_14_54_27_Pro.xml\n",
      "Cancel creation.\n",
      "Image:C:\\Users\\takia\\OneDrive\\Desktop\\MediaNet\\Model 4\\Model-2\\Tensorflow\\workspace\\images\\collectedimages\\prod4\\WIN_20240504_14_54_29_Pro.jpg -> Annotation:C:/Users/takia/OneDrive/Desktop/MediaNet/Model 4/Model-2/Tensorflow/workspace/images/collectedimages/prod4\\WIN_20240504_14_54_29_Pro.xml\n",
      "Image:C:\\Users\\takia\\OneDrive\\Desktop\\MediaNet\\Model 4\\Model-2\\Tensorflow\\workspace\\images\\collectedimages\\prod4\\WIN_20240504_14_54_30_Pro.jpg -> Annotation:C:/Users/takia/OneDrive/Desktop/MediaNet/Model 4/Model-2/Tensorflow/workspace/images/collectedimages/prod4\\WIN_20240504_14_54_30_Pro.xml\n",
      "Image:C:\\Users\\takia\\OneDrive\\Desktop\\MediaNet\\Model 4\\Model-2\\Tensorflow\\workspace\\images\\collectedimages\\prod4\\WIN_20240504_14_54_31_Pro.jpg -> Annotation:C:/Users/takia/OneDrive/Desktop/MediaNet/Model 4/Model-2/Tensorflow/workspace/images/collectedimages/prod4\\WIN_20240504_14_54_31_Pro.xml\n",
      "Image:C:\\Users\\takia\\OneDrive\\Desktop\\MediaNet\\Model 4\\Model-2\\Tensorflow\\workspace\\images\\collectedimages\\prod4\\WIN_20240504_14_54_33_Pro.jpg -> Annotation:C:/Users/takia/OneDrive/Desktop/MediaNet/Model 4/Model-2/Tensorflow/workspace/images/collectedimages/prod4\\WIN_20240504_14_54_33_Pro.xml\n",
      "Image:C:\\Users\\takia\\OneDrive\\Desktop\\MediaNet\\Model 4\\Model-2\\Tensorflow\\workspace\\images\\collectedimages\\prod4\\WIN_20240504_14_54_34_Pro.jpg -> Annotation:C:/Users/takia/OneDrive/Desktop/MediaNet/Model 4/Model-2/Tensorflow/workspace/images/collectedimages/prod4\\WIN_20240504_14_54_34_Pro.xml\n",
      "Image:C:\\Users\\takia\\OneDrive\\Desktop\\MediaNet\\Model 4\\Model-2\\Tensorflow\\workspace\\images\\collectedimages\\prod4\\WIN_20240504_14_54_36_Pro.jpg -> Annotation:C:/Users/takia/OneDrive/Desktop/MediaNet/Model 4/Model-2/Tensorflow/workspace/images/collectedimages/prod4\\WIN_20240504_14_54_36_Pro.xml\n",
      "Image:C:\\Users\\takia\\OneDrive\\Desktop\\MediaNet\\Model 4\\Model-2\\Tensorflow\\workspace\\images\\collectedimages\\prod4\\WIN_20240504_14_54_37_Pro.jpg -> Annotation:C:/Users/takia/OneDrive/Desktop/MediaNet/Model 4/Model-2/Tensorflow/workspace/images/collectedimages/prod4\\WIN_20240504_14_54_37_Pro.xml\n",
      "Image:C:\\Users\\takia\\OneDrive\\Desktop\\MediaNet\\Model 4\\Model-2\\Tensorflow\\workspace\\images\\collectedimages\\prod4\\WIN_20240504_14_54_38_Pro.jpg -> Annotation:C:/Users/takia/OneDrive/Desktop/MediaNet/Model 4/Model-2/Tensorflow/workspace/images/collectedimages/prod4\\WIN_20240504_14_54_38_Pro.xml\n",
      "Image:C:\\Users\\takia\\OneDrive\\Desktop\\MediaNet\\Model 4\\Model-2\\Tensorflow\\workspace\\images\\collectedimages\\prod4\\WIN_20240504_14_54_39_Pro (2).jpg -> Annotation:C:/Users/takia/OneDrive/Desktop/MediaNet/Model 4/Model-2/Tensorflow/workspace/images/collectedimages/prod4\\WIN_20240504_14_54_39_Pro (2).xml\n",
      "Image:C:\\Users\\takia\\OneDrive\\Desktop\\MediaNet\\Model 4\\Model-2\\Tensorflow\\workspace\\images\\collectedimages\\prod4\\WIN_20240504_14_54_39_Pro.jpg -> Annotation:C:/Users/takia/OneDrive/Desktop/MediaNet/Model 4/Model-2/Tensorflow/workspace/images/collectedimages/prod4\\WIN_20240504_14_54_39_Pro.xml\n",
      "Image:C:\\Users\\takia\\OneDrive\\Desktop\\MediaNet\\Model 4\\Model-2\\Tensorflow\\workspace\\images\\collectedimages\\prod4\\WIN_20240504_14_54_40_Pro.jpg -> Annotation:C:/Users/takia/OneDrive/Desktop/MediaNet/Model 4/Model-2/Tensorflow/workspace/images/collectedimages/prod4\\WIN_20240504_14_54_40_Pro.xml\n",
      "Image:C:\\Users\\takia\\OneDrive\\Desktop\\MediaNet\\Model 4\\Model-2\\Tensorflow\\workspace\\images\\collectedimages\\prod4\\WIN_20240504_14_54_41_Pro.jpg -> Annotation:C:/Users/takia/OneDrive/Desktop/MediaNet/Model 4/Model-2/Tensorflow/workspace/images/collectedimages/prod4\\WIN_20240504_14_54_41_Pro.xml\n",
      "Image:C:\\Users\\takia\\OneDrive\\Desktop\\MediaNet\\Model 4\\Model-2\\Tensorflow\\workspace\\images\\collectedimages\\prod4\\WIN_20240504_14_54_42_Pro.jpg -> Annotation:C:/Users/takia/OneDrive/Desktop/MediaNet/Model 4/Model-2/Tensorflow/workspace/images/collectedimages/prod4\\WIN_20240504_14_54_42_Pro.xml\n",
      "Image:C:\\Users\\takia\\OneDrive\\Desktop\\MediaNet\\Model 4\\Model-2\\Tensorflow\\workspace\\images\\collectedimages\\prod5\\WIN_20240504_14_54_46_Pro (2).jpg -> Annotation:C:/Users/takia/OneDrive/Desktop/MediaNet/Model 4/Model-2/Tensorflow/workspace/images/collectedimages/prod5\\WIN_20240504_14_54_46_Pro (2).xml\n",
      "Image:C:\\Users\\takia\\OneDrive\\Desktop\\MediaNet\\Model 4\\Model-2\\Tensorflow\\workspace\\images\\collectedimages\\prod5\\WIN_20240504_14_54_46_Pro.jpg -> Annotation:C:/Users/takia/OneDrive/Desktop/MediaNet/Model 4/Model-2/Tensorflow/workspace/images/collectedimages/prod5\\WIN_20240504_14_54_46_Pro.xml\n",
      "Cancel creation.\n",
      "Image:C:\\Users\\takia\\OneDrive\\Desktop\\MediaNet\\Model 4\\Model-2\\Tensorflow\\workspace\\images\\collectedimages\\prod5\\WIN_20240504_14_54_47_Pro.jpg -> Annotation:C:/Users/takia/OneDrive/Desktop/MediaNet/Model 4/Model-2/Tensorflow/workspace/images/collectedimages/prod5\\WIN_20240504_14_54_47_Pro.xml\n",
      "Image:C:\\Users\\takia\\OneDrive\\Desktop\\MediaNet\\Model 4\\Model-2\\Tensorflow\\workspace\\images\\collectedimages\\prod5\\WIN_20240504_14_54_48_Pro.jpg -> Annotation:C:/Users/takia/OneDrive/Desktop/MediaNet/Model 4/Model-2/Tensorflow/workspace/images/collectedimages/prod5\\WIN_20240504_14_54_48_Pro.xml\n",
      "Image:C:\\Users\\takia\\OneDrive\\Desktop\\MediaNet\\Model 4\\Model-2\\Tensorflow\\workspace\\images\\collectedimages\\prod5\\WIN_20240504_14_54_49_Pro.jpg -> Annotation:C:/Users/takia/OneDrive/Desktop/MediaNet/Model 4/Model-2/Tensorflow/workspace/images/collectedimages/prod5\\WIN_20240504_14_54_49_Pro.xml\n",
      "Image:C:\\Users\\takia\\OneDrive\\Desktop\\MediaNet\\Model 4\\Model-2\\Tensorflow\\workspace\\images\\collectedimages\\prod5\\WIN_20240504_14_54_51_Pro (2).jpg -> Annotation:C:/Users/takia/OneDrive/Desktop/MediaNet/Model 4/Model-2/Tensorflow/workspace/images/collectedimages/prod5\\WIN_20240504_14_54_51_Pro (2).xml\n",
      "Image:C:\\Users\\takia\\OneDrive\\Desktop\\MediaNet\\Model 4\\Model-2\\Tensorflow\\workspace\\images\\collectedimages\\prod5\\WIN_20240504_14_54_51_Pro.jpg -> Annotation:C:/Users/takia/OneDrive/Desktop/MediaNet/Model 4/Model-2/Tensorflow/workspace/images/collectedimages/prod5\\WIN_20240504_14_54_51_Pro.xml\n",
      "Image:C:\\Users\\takia\\OneDrive\\Desktop\\MediaNet\\Model 4\\Model-2\\Tensorflow\\workspace\\images\\collectedimages\\prod5\\WIN_20240504_14_54_52_Pro.jpg -> Annotation:C:/Users/takia/OneDrive/Desktop/MediaNet/Model 4/Model-2/Tensorflow/workspace/images/collectedimages/prod5\\WIN_20240504_14_54_52_Pro.xml\n",
      "Image:C:\\Users\\takia\\OneDrive\\Desktop\\MediaNet\\Model 4\\Model-2\\Tensorflow\\workspace\\images\\collectedimages\\prod5\\WIN_20240504_14_54_53_Pro.jpg -> Annotation:C:/Users/takia/OneDrive/Desktop/MediaNet/Model 4/Model-2/Tensorflow/workspace/images/collectedimages/prod5\\WIN_20240504_14_54_53_Pro.xml\n",
      "Cancel creation.\n",
      "Image:C:\\Users\\takia\\OneDrive\\Desktop\\MediaNet\\Model 4\\Model-2\\Tensorflow\\workspace\\images\\collectedimages\\prod5\\WIN_20240504_14_54_54_Pro.jpg -> Annotation:C:/Users/takia/OneDrive/Desktop/MediaNet/Model 4/Model-2/Tensorflow/workspace/images/collectedimages/prod5\\WIN_20240504_14_54_54_Pro.xml\n",
      "Image:C:\\Users\\takia\\OneDrive\\Desktop\\MediaNet\\Model 4\\Model-2\\Tensorflow\\workspace\\images\\collectedimages\\prod5\\WIN_20240504_14_54_55_Pro.jpg -> Annotation:C:/Users/takia/OneDrive/Desktop/MediaNet/Model 4/Model-2/Tensorflow/workspace/images/collectedimages/prod5\\WIN_20240504_14_54_55_Pro.xml\n",
      "Image:C:\\Users\\takia\\OneDrive\\Desktop\\MediaNet\\Model 4\\Model-2\\Tensorflow\\workspace\\images\\collectedimages\\prod5\\WIN_20240504_14_54_56_Pro (2).jpg -> Annotation:C:/Users/takia/OneDrive/Desktop/MediaNet/Model 4/Model-2/Tensorflow/workspace/images/collectedimages/prod5\\WIN_20240504_14_54_56_Pro (2).xml\n",
      "Image:C:\\Users\\takia\\OneDrive\\Desktop\\MediaNet\\Model 4\\Model-2\\Tensorflow\\workspace\\images\\collectedimages\\prod5\\WIN_20240504_14_54_56_Pro.jpg -> Annotation:C:/Users/takia/OneDrive/Desktop/MediaNet/Model 4/Model-2/Tensorflow/workspace/images/collectedimages/prod5\\WIN_20240504_14_54_56_Pro.xml\n",
      "Image:C:\\Users\\takia\\OneDrive\\Desktop\\MediaNet\\Model 4\\Model-2\\Tensorflow\\workspace\\images\\collectedimages\\prod5\\WIN_20240504_14_54_58_Pro.jpg -> Annotation:C:/Users/takia/OneDrive/Desktop/MediaNet/Model 4/Model-2/Tensorflow/workspace/images/collectedimages/prod5\\WIN_20240504_14_54_58_Pro.xml\n",
      "Image:C:\\Users\\takia\\OneDrive\\Desktop\\MediaNet\\Model 4\\Model-2\\Tensorflow\\workspace\\images\\collectedimages\\prod5\\WIN_20240504_14_54_59_Pro (2).jpg -> Annotation:C:/Users/takia/OneDrive/Desktop/MediaNet/Model 4/Model-2/Tensorflow/workspace/images/collectedimages/prod5\\WIN_20240504_14_54_59_Pro (2).xml\n",
      "Image:C:\\Users\\takia\\OneDrive\\Desktop\\MediaNet\\Model 4\\Model-2\\Tensorflow\\workspace\\images\\collectedimages\\prod5\\WIN_20240504_14_54_59_Pro.jpg -> Annotation:C:/Users/takia/OneDrive/Desktop/MediaNet/Model 4/Model-2/Tensorflow/workspace/images/collectedimages/prod5\\WIN_20240504_14_54_59_Pro.xml\n",
      "Image:C:\\Users\\takia\\OneDrive\\Desktop\\MediaNet\\Model 4\\Model-2\\Tensorflow\\workspace\\images\\collectedimages\\prod5\\WIN_20240504_14_55_00_Pro.jpg -> Annotation:C:/Users/takia/OneDrive/Desktop/MediaNet/Model 4/Model-2/Tensorflow/workspace/images/collectedimages/prod5\\WIN_20240504_14_55_00_Pro.xml\n",
      "Image:C:\\Users\\takia\\OneDrive\\Desktop\\MediaNet\\Model 4\\Model-2\\Tensorflow\\workspace\\images\\collectedimages\\prod5\\WIN_20240504_14_55_01_Pro.jpg -> Annotation:C:/Users/takia/OneDrive/Desktop/MediaNet/Model 4/Model-2/Tensorflow/workspace/images/collectedimages/prod5\\WIN_20240504_14_55_01_Pro.xml\n",
      "Image:C:\\Users\\takia\\OneDrive\\Desktop\\MediaNet\\Model 4\\Model-2\\Tensorflow\\workspace\\images\\collectedimages\\prod5\\WIN_20240504_14_55_02_Pro.jpg -> Annotation:C:/Users/takia/OneDrive/Desktop/MediaNet/Model 4/Model-2/Tensorflow/workspace/images/collectedimages/prod5\\WIN_20240504_14_55_02_Pro.xml\n",
      "Image:C:\\Users\\takia\\OneDrive\\Desktop\\MediaNet\\Model 4\\Model-2\\Tensorflow\\workspace\\images\\collectedimages\\prod5\\WIN_20240504_14_55_03_Pro (2).jpg -> Annotation:C:/Users/takia/OneDrive/Desktop/MediaNet/Model 4/Model-2/Tensorflow/workspace/images/collectedimages/prod5\\WIN_20240504_14_55_03_Pro (2).xml\n",
      "Image:C:\\Users\\takia\\OneDrive\\Desktop\\MediaNet\\Model 4\\Model-2\\Tensorflow\\workspace\\images\\collectedimages\\prod5\\WIN_20240504_14_55_03_Pro.jpg -> Annotation:C:/Users/takia/OneDrive/Desktop/MediaNet/Model 4/Model-2/Tensorflow/workspace/images/collectedimages/prod5\\WIN_20240504_14_55_03_Pro.xml\n",
      "Image:C:\\Users\\takia\\OneDrive\\Desktop\\MediaNet\\Model 4\\Model-2\\Tensorflow\\workspace\\images\\collectedimages\\prod5\\WIN_20240504_14_55_04_Pro (2).jpg -> Annotation:C:/Users/takia/OneDrive/Desktop/MediaNet/Model 4/Model-2/Tensorflow/workspace/images/collectedimages/prod5\\WIN_20240504_14_55_04_Pro (2).xml\n",
      "Image:C:\\Users\\takia\\OneDrive\\Desktop\\MediaNet\\Model 4\\Model-2\\Tensorflow\\workspace\\images\\collectedimages\\prod5\\WIN_20240504_14_55_04_Pro.jpg -> Annotation:C:/Users/takia/OneDrive/Desktop/MediaNet/Model 4/Model-2/Tensorflow/workspace/images/collectedimages/prod5\\WIN_20240504_14_55_04_Pro.xml\n",
      "Image:C:\\Users\\takia\\OneDrive\\Desktop\\MediaNet\\Model 4\\Model-2\\Tensorflow\\workspace\\images\\collectedimages\\prod5\\WIN_20240504_14_55_05_Pro.jpg -> Annotation:C:/Users/takia/OneDrive/Desktop/MediaNet/Model 4/Model-2/Tensorflow/workspace/images/collectedimages/prod5\\WIN_20240504_14_55_05_Pro.xml\n",
      "Image:C:\\Users\\takia\\OneDrive\\Desktop\\MediaNet\\Model 4\\Model-2\\Tensorflow\\workspace\\images\\collectedimages\\prod5\\WIN_20240504_14_55_06_Pro (2).jpg -> Annotation:C:/Users/takia/OneDrive/Desktop/MediaNet/Model 4/Model-2/Tensorflow/workspace/images/collectedimages/prod5\\WIN_20240504_14_55_06_Pro (2).xml\n",
      "Image:C:\\Users\\takia\\OneDrive\\Desktop\\MediaNet\\Model 4\\Model-2\\Tensorflow\\workspace\\images\\collectedimages\\prod5\\WIN_20240504_14_55_06_Pro.jpg -> Annotation:C:/Users/takia/OneDrive/Desktop/MediaNet/Model 4/Model-2/Tensorflow/workspace/images/collectedimages/prod5\\WIN_20240504_14_55_06_Pro.xml\n",
      "Image:C:\\Users\\takia\\OneDrive\\Desktop\\MediaNet\\Model 4\\Model-2\\Tensorflow\\workspace\\images\\collectedimages\\prod5\\WIN_20240504_14_55_07_Pro.jpg -> Annotation:C:/Users/takia/OneDrive/Desktop/MediaNet/Model 4/Model-2/Tensorflow/workspace/images/collectedimages/prod5\\WIN_20240504_14_55_07_Pro.xml\n",
      "Image:C:\\Users\\takia\\OneDrive\\Desktop\\MediaNet\\Model 4\\Model-2\\Tensorflow\\workspace\\images\\collectedimages\\prod5\\WIN_20240504_14_55_09_Pro.jpg -> Annotation:C:/Users/takia/OneDrive/Desktop/MediaNet/Model 4/Model-2/Tensorflow/workspace/images/collectedimages/prod5\\WIN_20240504_14_55_09_Pro.xml\n"
     ]
    }
   ],
   "source": [
    "!cd {LABELIMG_PATH} && python labelImg.py"
   ]
  },
  {
   "cell_type": "markdown",
   "metadata": {},
   "source": [
    "# 6. divsion entre train and test \n"
   ]
  },
  {
   "cell_type": "code",
   "execution_count": null,
   "metadata": {},
   "outputs": [],
   "source": [
    "TRAIN_PATH = os.path.join('Tensorflow', 'workspace', 'images', 'train')\n",
    "TEST_PATH = os.path.join('Tensorflow', 'workspace', 'images', 'test')\n",
    "ARCHIVE_PATH = os.path.join('Tensorflow', 'workspace', 'images', 'collab_dataset.tar.gz')"
   ]
  },
  {
   "cell_type": "markdown",
   "metadata": {},
   "source": [
    "## 7. Compresser pour collab training "
   ]
  },
  {
   "cell_type": "code",
   "execution_count": null,
   "metadata": {},
   "outputs": [],
   "source": [
    "!tar -czf {ARCHIVE_PATH} {TRAIN_PATH} {TEST_PATH}"
   ]
  }
 ],
 "metadata": {
  "kernelspec": {
   "display_name": "pfe",
   "language": "python",
   "name": "pfe"
  },
  "language_info": {
   "codemirror_mode": {
    "name": "ipython",
    "version": 3
   },
   "file_extension": ".py",
   "mimetype": "text/x-python",
   "name": "python",
   "nbconvert_exporter": "python",
   "pygments_lexer": "ipython3",
   "version": "3.9.0"
  }
 },
 "nbformat": 4,
 "nbformat_minor": 4
}
